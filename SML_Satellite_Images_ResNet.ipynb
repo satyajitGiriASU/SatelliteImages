{
  "nbformat": 4,
  "nbformat_minor": 0,
  "metadata": {
    "colab": {
      "name": "SML_Satellite_Images_ResNet.ipynb",
      "version": "0.3.2",
      "provenance": []
    },
    "kernelspec": {
      "name": "python2",
      "display_name": "Python 2"
    },
    "accelerator": "GPU"
  },
  "cells": [
    {
      "metadata": {
        "id": "JVpeyGlPV48v",
        "colab_type": "text"
      },
      "cell_type": "markdown",
      "source": [
        "# Introduction\n",
        "\n",
        "In this project we show different architectures for deep learning that will help us classify satellite images. In our first part of the project we show how to preprocess the data, tackle data imbalance, and use two common techniques in deep learning to train our model (transfered learning and feature extraction)."
      ]
    },
    {
      "metadata": {
        "id": "1ZilLEvNWDAn",
        "colab_type": "text"
      },
      "cell_type": "markdown",
      "source": [
        "# Setting up the Google Collab Environment\n",
        "\n",
        "We use the following dependenicies in our code:\n",
        "1. Pytorch: For implementing deep learning solutions.\n",
        "2. Matplotlib: For data visualiztion\n",
        "3. CV2: For visualizing images\n",
        "4. Sklearn: For machine learning solutions\n",
        "5. Numpy: For matrix manipulations"
      ]
    },
    {
      "metadata": {
        "id": "Y0io3qvfWoyv",
        "colab_type": "text"
      },
      "cell_type": "markdown",
      "source": [
        "**Importing Libraries**"
      ]
    },
    {
      "metadata": {
        "id": "EE6kpZJLVVzL",
        "colab_type": "code",
        "outputId": "47f59247-6850-4c31-ded4-0aa1311be2c0",
        "colab": {
          "base_uri": "https://localhost:8080/",
          "height": 50
        }
      },
      "cell_type": "code",
      "source": [
        "import torch\n",
        "import torch.nn as nn\n",
        "import torch.optim as optim\n",
        "from torch.optim import lr_scheduler\n",
        "from torch.autograd import Variable\n",
        "import torchvision\n",
        "from torchvision import datasets, models, transforms\n",
        "import matplotlib.pyplot as plt\n",
        "import time\n",
        "import os\n",
        "import copy\n",
        "import sklearn.svm\n",
        "import cv2\n",
        "from matplotlib import pyplot as plt\n",
        "import numpy as np\n",
        "from os.path import exists\n",
        "\n",
        "cuda_output = !ldconfig -p|grep cudart.so|sed -e 's/.*\\.\\([0-9]*\\)\\.\\([0-9]*\\)$/cu\\1\\2/'\n",
        "accelerator = cuda_output[0] if exists('/dev/nvidia0') else 'cpu'\n",
        "\n",
        "print(\"Accelerator type = \",accelerator)\n",
        "print(\"Pytorch verision: \", torch.__version__)"
      ],
      "execution_count": 0,
      "outputs": [
        {
          "output_type": "stream",
          "text": [
            "('Accelerator type = ', 'cu100')\n",
            "('Pytorch verision: ', '1.0.1.post2')\n"
          ],
          "name": "stdout"
        }
      ]
    },
    {
      "metadata": {
        "id": "gBGOiGdtW7vH",
        "colab_type": "text"
      },
      "cell_type": "markdown",
      "source": [
        "**Importing the data**\n",
        "\n",
        "Google Collab is an exciting addition to the Machine Learning community. Using google collab, anyone can use GPUs to train their model. What we do here is is mount our google drive into our collab environment so that we can access all of our folder."
      ]
    },
    {
      "metadata": {
        "id": "hJzzZSk8WzNq",
        "colab_type": "code",
        "outputId": "c7511c93-bbaa-4709-d0eb-6004289dddee",
        "colab": {
          "base_uri": "https://localhost:8080/",
          "height": 34
        }
      },
      "cell_type": "code",
      "source": [
        "# Load the Drive helper and mount\n",
        "from google.colab import drive\n",
        "\n",
        "# This will prompt for authorization.\n",
        "drive.mount('/content/drive')"
      ],
      "execution_count": 0,
      "outputs": [
        {
          "output_type": "stream",
          "text": [
            "Drive already mounted at /content/drive; to attempt to forcibly remount, call drive.mount(\"/content/drive\", force_remount=True).\n"
          ],
          "name": "stdout"
        }
      ]
    },
    {
      "metadata": {
        "id": "TfTho0IuXKtp",
        "colab_type": "text"
      },
      "cell_type": "markdown",
      "source": [
        "**Check if the data has been loaded to the Google Collab Environment**"
      ]
    },
    {
      "metadata": {
        "id": "aOmisOkyXHS7",
        "colab_type": "code",
        "outputId": "e0b3e673-5066-4adf-ef2e-f90c75b4e646",
        "colab": {
          "base_uri": "https://localhost:8080/",
          "height": 349
        }
      },
      "cell_type": "code",
      "source": [
        "a = cv2.imread(\"/content/drive/My Drive/ComputerVision/Test/data/test/1/31.jpg\")\n",
        "a = a[...,::-1]\n",
        "plt.imshow(a)\n",
        "plt.show()"
      ],
      "execution_count": 0,
      "outputs": [
        {
          "output_type": "display_data",
          "data": {
            "image/png": "[encoded data removed]",
            "text/plain": [
              "<Figure size 576x396 with 1 Axes>"
            ]
          },
          "metadata": {
            "tags": []
          }
        }
      ]
    },
    {
      "metadata": {
        "id": "2GgFfvfzXtl_",
        "colab_type": "text"
      },
      "cell_type": "markdown",
      "source": [
        "# Setting Up Pytorch Environment"
      ]
    },
    {
      "metadata": {
        "id": "_tP4-nUHq3U8",
        "colab_type": "text"
      },
      "cell_type": "markdown",
      "source": [
        "We need to proprocess the image before passing it throught the model for training. These are the preprocessing steps:\n",
        "1. *Resize:* The resnet requires an input image size to be (224, 224) so we first rescale the image. \n",
        "2. *Convert to Tensor*: The Pytorch uses a data class called Tensor. We have to convert from our numpy array to this data type.\n",
        "3. *Batch Normalize:* Since we will be using batch stochastic gradient descent (the computer memory can't load the entire dataset in one instance), we need to normalize all imagize based on the mean and standard deviation across the batch to [0.485,0.456,0.406] and [.229, .224, .225] respectively."
      ]
    },
    {
      "metadata": {
        "id": "XVcZsmIWX2X_",
        "colab_type": "code",
        "colab": {}
      },
      "cell_type": "code",
      "source": [
        "def get_data(data_dir):\n",
        "\n",
        "    #Pre processing the data\n",
        "    normalize = transforms.Normalize(mean = [0.485,0.456,0.406],\n",
        "                                    std = [0.229,0.224,0.225])\n",
        "    resize = transforms.Resize((224,224))\n",
        "\n",
        "    preprocessor = transforms.Compose([\n",
        "                                        resize,\n",
        "                                        transforms.ToTensor(),\n",
        "                                        normalize])\n",
        "\n",
        "    train_loader = torch.utils.data.DataLoader(\n",
        "        datasets.ImageFolder(os.path.join(data_dir,'train'),preprocessor),\n",
        "        batch_size=50,\n",
        "        shuffle = True)\n",
        "\n",
        "    test_loader = torch.utils.data.DataLoader(\n",
        "        datasets.ImageFolder(os.path.join(data_dir,'test'),preprocessor),\n",
        "        batch_size=50,\n",
        "        shuffle = True)\n",
        "\n",
        "    return train_loader, test_loader, len(os.listdir(os.path.join(data_dir,'train')))"
      ],
      "execution_count": 0,
      "outputs": []
    },
    {
      "metadata": {
        "id": "3YbWZudosNQP",
        "colab_type": "code",
        "outputId": "c218dc1b-6b45-415e-f0a4-ad844642bf2a",
        "colab": {
          "base_uri": "https://localhost:8080/",
          "height": 34
        }
      },
      "cell_type": "code",
      "source": [
        "trainloader, testloader, num_classes = get_data(\"/content/drive/My Drive/ComputerVision/OneConcern/data\")\n",
        "print(\"Number of classes:\", num_classes)"
      ],
      "execution_count": 0,
      "outputs": [
        {
          "output_type": "stream",
          "text": [
            "('Number of classes:', 10)\n"
          ],
          "name": "stdout"
        }
      ]
    },
    {
      "metadata": {
        "id": "FnTBDXa2s9pC",
        "colab_type": "text"
      },
      "cell_type": "markdown",
      "source": [
        "**Loading the Model**\n",
        "\n",
        "1.  *Model choice: * this iteration we use a ResNet-18 model. A ResNet model is known for it's skip connections that enables the model to learn identity functions for particular steps thus enabling a deep model to still converge.\n",
        "2. *Transferred Learning: * Since we don't have the hardware capacity to train a deep model from scratch we will only train the last layer. \n",
        "3. *Loss Function: * Since it's an object classification problem, with think the cross entropy equation will serve as a good loss function. \n",
        "4. *Optimizer: * We used a stochastic gradient descent for our first iteration, but would prefer to switch to Adam Optimizer for a later iteration."
      ]
    },
    {
      "metadata": {
        "id": "MjamJpOysrRJ",
        "colab_type": "code",
        "outputId": "50a82f64-89a0-48f0-8045-b20a3382843c",
        "colab": {
          "base_uri": "https://localhost:8080/",
          "height": 1445
        }
      },
      "cell_type": "code",
      "source": [
        "gpu_flag = torch.cuda.is_available()\n",
        "\n",
        "#preloading Resnet18\n",
        "model = models.resnet18(pretrained = True)\n",
        "\n",
        "#append a new last layer\n",
        "model.fc = nn.Linear(512,num_classes)\n",
        "\n",
        "# define loss function\n",
        "criterion = nn.CrossEntropyLoss()\n",
        "\n",
        "# setup SGD\n",
        "optimizer = torch.optim.SGD(model.parameters(), lr=0.004, momentum=0.9)\n",
        "\n",
        "exp_lr_scheduler = lr_scheduler.StepLR(optimizer,5,.3)\n",
        "\n",
        "#Pre processing the data\n",
        "normalize = transforms.Normalize(mean = [0.485,0.456,0.406], std = [0.229,0.224,0.225])\n",
        "resize = transforms.Resize((224,224))\n",
        "\n",
        "preprocessor = transforms.Compose([resize,transforms.ToTensor(),normalize])\n",
        "\n",
        "\n",
        "gpu_flag = torch.cuda.is_available()\n",
        "print(gpu_flag)\n",
        "if gpu_flag:\n",
        "    model = model.cuda()\n",
        "    \n",
        "print model"
      ],
      "execution_count": 0,
      "outputs": [
        {
          "output_type": "stream",
          "text": [
            "True\n",
            "ResNet(\n",
            "  (conv1): Conv2d(3, 64, kernel_size=(7, 7), stride=(2, 2), padding=(3, 3), bias=False)\n",
            "  (bn1): BatchNorm2d(64, eps=1e-05, momentum=0.1, affine=True, track_running_stats=True)\n",
            "  (relu): ReLU(inplace)\n",
            "  (maxpool): MaxPool2d(kernel_size=3, stride=2, padding=1, dilation=1, ceil_mode=False)\n",
            "  (layer1): Sequential(\n",
            "    (0): BasicBlock(\n",
            "      (conv1): Conv2d(64, 64, kernel_size=(3, 3), stride=(1, 1), padding=(1, 1), bias=False)\n",
            "      (bn1): BatchNorm2d(64, eps=1e-05, momentum=0.1, affine=True, track_running_stats=True)\n",
            "      (relu): ReLU(inplace)\n",
            "      (conv2): Conv2d(64, 64, kernel_size=(3, 3), stride=(1, 1), padding=(1, 1), bias=False)\n",
            "      (bn2): BatchNorm2d(64, eps=1e-05, momentum=0.1, affine=True, track_running_stats=True)\n",
            "    )\n",
            "    (1): BasicBlock(\n",
            "      (conv1): Conv2d(64, 64, kernel_size=(3, 3), stride=(1, 1), padding=(1, 1), bias=False)\n",
            "      (bn1): BatchNorm2d(64, eps=1e-05, momentum=0.1, affine=True, track_running_stats=True)\n",
            "      (relu): ReLU(inplace)\n",
            "      (conv2): Conv2d(64, 64, kernel_size=(3, 3), stride=(1, 1), padding=(1, 1), bias=False)\n",
            "      (bn2): BatchNorm2d(64, eps=1e-05, momentum=0.1, affine=True, track_running_stats=True)\n",
            "    )\n",
            "  )\n",
            "  (layer2): Sequential(\n",
            "    (0): BasicBlock(\n",
            "      (conv1): Conv2d(64, 128, kernel_size=(3, 3), stride=(2, 2), padding=(1, 1), bias=False)\n",
            "      (bn1): BatchNorm2d(128, eps=1e-05, momentum=0.1, affine=True, track_running_stats=True)\n",
            "      (relu): ReLU(inplace)\n",
            "      (conv2): Conv2d(128, 128, kernel_size=(3, 3), stride=(1, 1), padding=(1, 1), bias=False)\n",
            "      (bn2): BatchNorm2d(128, eps=1e-05, momentum=0.1, affine=True, track_running_stats=True)\n",
            "      (downsample): Sequential(\n",
            "        (0): Conv2d(64, 128, kernel_size=(1, 1), stride=(2, 2), bias=False)\n",
            "        (1): BatchNorm2d(128, eps=1e-05, momentum=0.1, affine=True, track_running_stats=True)\n",
            "      )\n",
            "    )\n",
            "    (1): BasicBlock(\n",
            "      (conv1): Conv2d(128, 128, kernel_size=(3, 3), stride=(1, 1), padding=(1, 1), bias=False)\n",
            "      (bn1): BatchNorm2d(128, eps=1e-05, momentum=0.1, affine=True, track_running_stats=True)\n",
            "      (relu): ReLU(inplace)\n",
            "      (conv2): Conv2d(128, 128, kernel_size=(3, 3), stride=(1, 1), padding=(1, 1), bias=False)\n",
            "      (bn2): BatchNorm2d(128, eps=1e-05, momentum=0.1, affine=True, track_running_stats=True)\n",
            "    )\n",
            "  )\n",
            "  (layer3): Sequential(\n",
            "    (0): BasicBlock(\n",
            "      (conv1): Conv2d(128, 256, kernel_size=(3, 3), stride=(2, 2), padding=(1, 1), bias=False)\n",
            "      (bn1): BatchNorm2d(256, eps=1e-05, momentum=0.1, affine=True, track_running_stats=True)\n",
            "      (relu): ReLU(inplace)\n",
            "      (conv2): Conv2d(256, 256, kernel_size=(3, 3), stride=(1, 1), padding=(1, 1), bias=False)\n",
            "      (bn2): BatchNorm2d(256, eps=1e-05, momentum=0.1, affine=True, track_running_stats=True)\n",
            "      (downsample): Sequential(\n",
            "        (0): Conv2d(128, 256, kernel_size=(1, 1), stride=(2, 2), bias=False)\n",
            "        (1): BatchNorm2d(256, eps=1e-05, momentum=0.1, affine=True, track_running_stats=True)\n",
            "      )\n",
            "    )\n",
            "    (1): BasicBlock(\n",
            "      (conv1): Conv2d(256, 256, kernel_size=(3, 3), stride=(1, 1), padding=(1, 1), bias=False)\n",
            "      (bn1): BatchNorm2d(256, eps=1e-05, momentum=0.1, affine=True, track_running_stats=True)\n",
            "      (relu): ReLU(inplace)\n",
            "      (conv2): Conv2d(256, 256, kernel_size=(3, 3), stride=(1, 1), padding=(1, 1), bias=False)\n",
            "      (bn2): BatchNorm2d(256, eps=1e-05, momentum=0.1, affine=True, track_running_stats=True)\n",
            "    )\n",
            "  )\n",
            "  (layer4): Sequential(\n",
            "    (0): BasicBlock(\n",
            "      (conv1): Conv2d(256, 512, kernel_size=(3, 3), stride=(2, 2), padding=(1, 1), bias=False)\n",
            "      (bn1): BatchNorm2d(512, eps=1e-05, momentum=0.1, affine=True, track_running_stats=True)\n",
            "      (relu): ReLU(inplace)\n",
            "      (conv2): Conv2d(512, 512, kernel_size=(3, 3), stride=(1, 1), padding=(1, 1), bias=False)\n",
            "      (bn2): BatchNorm2d(512, eps=1e-05, momentum=0.1, affine=True, track_running_stats=True)\n",
            "      (downsample): Sequential(\n",
            "        (0): Conv2d(256, 512, kernel_size=(1, 1), stride=(2, 2), bias=False)\n",
            "        (1): BatchNorm2d(512, eps=1e-05, momentum=0.1, affine=True, track_running_stats=True)\n",
            "      )\n",
            "    )\n",
            "    (1): BasicBlock(\n",
            "      (conv1): Conv2d(512, 512, kernel_size=(3, 3), stride=(1, 1), padding=(1, 1), bias=False)\n",
            "      (bn1): BatchNorm2d(512, eps=1e-05, momentum=0.1, affine=True, track_running_stats=True)\n",
            "      (relu): ReLU(inplace)\n",
            "      (conv2): Conv2d(512, 512, kernel_size=(3, 3), stride=(1, 1), padding=(1, 1), bias=False)\n",
            "      (bn2): BatchNorm2d(512, eps=1e-05, momentum=0.1, affine=True, track_running_stats=True)\n",
            "    )\n",
            "  )\n",
            "  (avgpool): AdaptiveAvgPool2d(output_size=(1, 1))\n",
            "  (fc): Linear(in_features=512, out_features=10, bias=True)\n",
            ")\n"
          ],
          "name": "stdout"
        }
      ]
    },
    {
      "metadata": {
        "id": "Fg1K7CnwvDsY",
        "colab_type": "code",
        "outputId": "42e49b18-cec4-47ef-ec0f-7d96db34baa1",
        "colab": {
          "base_uri": "https://localhost:8080/",
          "height": 34
        }
      },
      "cell_type": "code",
      "source": [
        "if gpu_flag:\n",
        "  print(\"We have gpu!\")\n",
        "  model = model.cuda()\n",
        "  criterion = criterion.cuda()\n",
        "\n",
        "epochs = 10\n",
        "best_model_wts = copy.deepcopy(model.state_dict())\n",
        "best_acc = 0.0"
      ],
      "execution_count": 0,
      "outputs": [
        {
          "output_type": "stream",
          "text": [
            "We have gpu!\n"
          ],
          "name": "stdout"
        }
      ]
    },
    {
      "metadata": {
        "id": "odOPOxCnwPeS",
        "colab_type": "code",
        "outputId": "725daa8d-4a10-42be-a1d4-2fd0f3f3d9ae",
        "colab": {
          "base_uri": "https://localhost:8080/",
          "height": 5645
        }
      },
      "cell_type": "code",
      "source": [
        "train_loss = []\n",
        "test_loss = []\n",
        "accuracy = []\n",
        "\n",
        "for e in range(epochs):\n",
        "      exp_lr_scheduler.step()\n",
        "    \n",
        "      #put model in training mode\n",
        "      model.train()\n",
        "      avg_loss = 0\n",
        "\n",
        "      for i, (x,y) in enumerate(trainloader):\n",
        "            optimizer.zero_grad()\n",
        "\n",
        "            if gpu_flag:\n",
        "                  x_var = Variable(x).cuda()\n",
        "                  y_actual = Variable(y).cuda()\n",
        "            else:\n",
        "                  x_var = Variable(x)\n",
        "                  y_actual = Variable(y)\n",
        "\n",
        "            y_pred = model.forward(x_var)\n",
        "            loss = criterion(y_pred,y_actual)\n",
        "            loss.backward()\n",
        "            \n",
        "            if(i%10 == 0):\n",
        "                  print(i, loss.item())\n",
        "            avg_loss+=loss.item()\n",
        "            optimizer.step()\n",
        "            \n",
        "      print(\"Done Training\")\n",
        "      train_loss.append(avg_loss*1.0/(i+1))\n",
        "      \n",
        "      #set model in evaluation mode\n",
        "      model.eval()\n",
        "      avg_loss = 0\n",
        "      correct_pred = 0\n",
        "      total_pred = 0\n",
        "      \n",
        "      for i, (x_test,y_test) in enumerate(testloader):\n",
        "\n",
        "          if gpu_flag:\n",
        "              x_test_var = Variable(x_test).cuda()\n",
        "              y_test_var = Variable(y_test).cuda()\n",
        "          else:\n",
        "              x_test_var = Variable(x_test)\n",
        "              y_test_var = Variable(y_test)\n",
        "\n",
        "          y_pred_test = model.forward(x_test_var)\n",
        "          loss = criterion(y_pred_test,y_test_var)\n",
        "          avg_loss+=loss.item()\n",
        "          vals, y_pred = torch.max(y_pred_test,1)\n",
        "\n",
        "          correct_pred += (y_pred.cpu().data.numpy()==y_test_var.cpu().data.numpy()).sum()\n",
        "          total_pred += len(y_pred_test.cpu())\n",
        "      \n",
        "      test_loss.append(avg_loss*1.0/i)\n",
        "      accuracy.append(correct_pred*100.0/total_pred)\n",
        "      print(\"Epoch: \", e, \"Train Loss: \", train_loss[-1], \"Test Loss: \", test_loss[-1], \"Accuracy: \", accuracy[-1])\n",
        "      \n",
        "      #replace model saved \n",
        "      if accuracy[-1]>best_acc:\n",
        "          best_acc = accuracy[-1]\n",
        "          best_model_wts = copy.deepcopy(model.state_dict())\n",
        "          model.load_state_dict(best_model_wts)\n",
        "          torch.save(model,'/content/drive/My Drive/ComputerVision/OneConcern/best_finetune.pt')\n",
        "          print(\"Saved model with accuracy: \", best_acc)"
      ],
      "execution_count": 0,
      "outputs": [
        {
          "output_type": "stream",
          "text": [
            "(0, 0.02078286185860634)\n",
            "(10, 0.03140169009566307)\n",
            "(20, 0.046105872839689255)\n",
            "(30, 0.018269214779138565)\n",
            "(40, 0.07951486110687256)\n",
            "(50, 0.09838642925024033)\n",
            "(60, 0.1907305121421814)\n",
            "(70, 0.0900983065366745)\n",
            "(80, 0.055307578295469284)\n",
            "(90, 0.10102881491184235)\n",
            "(100, 0.13847710192203522)\n",
            "(110, 0.10576970875263214)\n",
            "(120, 0.07687371224164963)\n",
            "(130, 0.03667012229561806)\n",
            "(140, 0.10552529245615005)\n",
            "(150, 0.04405132681131363)\n",
            "(160, 0.09697481989860535)\n",
            "(170, 0.05469506233930588)\n",
            "(180, 0.02870185859501362)\n",
            "(190, 0.0691099613904953)\n",
            "(200, 0.07347388565540314)\n",
            "(210, 0.064165860414505)\n",
            "(220, 0.09556248784065247)\n",
            "(230, 0.07088238000869751)\n",
            "(240, 0.07585029304027557)\n",
            "(250, 0.17519958317279816)\n",
            "(260, 0.13710592687129974)\n",
            "(270, 0.05090971291065216)\n",
            "(280, 0.06478855013847351)\n",
            "(290, 0.019459610804915428)\n",
            "(300, 0.01304483413696289)\n",
            "Done Training\n",
            "('Epoch: ', 0, 'Train Loss: ', 0.07815007705687511, 'Test Loss: ', 0.10564717385530858, 'Accuracy: ', 96.7599792638673)\n",
            "('Saved model with accuracy: ', 96.7599792638673)\n",
            "(0, 0.030155658721923828)\n",
            "(10, 0.04747342690825462)\n",
            "(20, 0.11862681061029434)\n",
            "(30, 0.01864737458527088)\n",
            "(40, 0.03532026335597038)\n",
            "(50, 0.031342800706624985)\n",
            "(60, 0.024902019649744034)\n",
            "(70, 0.007760286331176758)\n",
            "(80, 0.012156572192907333)\n",
            "(90, 0.026002932339906693)\n",
            "(100, 0.05299556627869606)\n",
            "(110, 0.08474183082580566)\n",
            "(120, 0.012265205383300781)\n",
            "(130, 0.13727062940597534)\n",
            "(140, 0.009843893349170685)\n",
            "(150, 0.015236368402838707)\n",
            "(160, 0.04635258764028549)\n",
            "(170, 0.029904546216130257)\n",
            "(180, 0.011945619247853756)\n",
            "(190, 0.01613280363380909)\n",
            "(200, 0.018820172175765038)\n",
            "(210, 0.041467227041721344)\n",
            "(220, 0.06156038120388985)\n",
            "(230, 0.045959100127220154)\n",
            "(240, 0.15766815841197968)\n",
            "(250, 0.01051389705389738)\n",
            "(260, 0.07786457985639572)\n",
            "(270, 0.031135357916355133)\n",
            "(280, 0.03302212804555893)\n",
            "(290, 0.10842347890138626)\n",
            "(300, 0.03263982757925987)\n",
            "Done Training\n",
            "('Epoch: ', 1, 'Train Loss: ', 0.04406417777210257, 'Test Loss: ', 0.08359113851465381, 'Accuracy: ', 97.01918092275791)\n",
            "('Saved model with accuracy: ', 97.01918092275791)\n",
            "(0, 0.018713627010583878)\n",
            "(10, 0.008441495709121227)\n",
            "(20, 0.01348988525569439)\n",
            "(30, 0.03725482150912285)\n",
            "(40, 0.05194924399256706)\n",
            "(50, 0.024366512894630432)\n",
            "(60, 0.01639062911272049)\n",
            "(70, 0.01021562609821558)\n",
            "(80, 0.010153408162295818)\n",
            "(90, 0.01601872406899929)\n",
            "(100, 0.01181371696293354)\n",
            "(110, 0.04019520804286003)\n",
            "(120, 0.00795543659478426)\n",
            "(130, 0.01126363780349493)\n",
            "(140, 0.0396587960422039)\n",
            "(150, 0.052452705800533295)\n",
            "(160, 0.002036924473941326)\n",
            "(170, 0.07335653156042099)\n",
            "(180, 0.03471117839217186)\n",
            "(190, 0.008969440124928951)\n",
            "(200, 0.09009372442960739)\n",
            "(210, 0.030986238270998)\n",
            "(220, 0.07019282132387161)\n",
            "(230, 0.007814531214535236)\n",
            "(240, 0.07889379560947418)\n",
            "(250, 0.009287777356803417)\n",
            "(260, 0.032860126346349716)\n",
            "(270, 0.049136485904455185)\n",
            "(280, 0.03886152431368828)\n",
            "(290, 0.004901199135929346)\n",
            "(300, 0.020270071923732758)\n",
            "Done Training\n",
            "('Epoch: ', 2, 'Train Loss: ', 0.03162331415738151, 'Test Loss: ', 0.07095966685877798, 'Accuracy: ', 97.38206324520478)\n",
            "('Saved model with accuracy: ', 97.38206324520478)\n",
            "(0, 0.009881124831736088)\n",
            "(10, 0.03261483088135719)\n",
            "(20, 0.022006502375006676)\n",
            "(30, 0.0347827784717083)\n",
            "(40, 0.006770639214664698)\n",
            "(50, 0.0015831660712137818)\n",
            "(60, 0.002695760689675808)\n",
            "(70, 0.04451978579163551)\n",
            "(80, 0.011217155493795872)\n",
            "(90, 0.02636053040623665)\n",
            "(100, 0.005207605194300413)\n",
            "(110, 0.016051549464464188)\n",
            "(120, 0.003774309065192938)\n",
            "(130, 0.008889589458703995)\n",
            "(140, 0.010184526443481445)\n",
            "(150, 0.004399843048304319)\n",
            "(160, 0.009844961576163769)\n",
            "(170, 0.004833841230720282)\n",
            "(180, 0.0008325958042405546)\n",
            "(190, 0.01295018196105957)\n",
            "(200, 0.018069706857204437)\n",
            "(210, 0.0034864903427660465)\n",
            "(220, 0.02750135399401188)\n",
            "(230, 0.009212073870003223)\n",
            "(240, 0.0020747948437929153)\n",
            "(250, 0.010938110761344433)\n",
            "(260, 0.00806036964058876)\n",
            "(270, 0.01811976358294487)\n",
            "(280, 0.016996068879961967)\n",
            "(290, 0.0335233211517334)\n",
            "(300, 0.008184108883142471)\n",
            "Done Training\n",
            "('Epoch: ', 3, 'Train Loss: ', 0.01440309343010362, 'Test Loss: ', 0.060740743431129625, 'Accuracy: ', 98.31518921721099)\n",
            "('Saved model with accuracy: ', 98.31518921721099)\n",
            "(0, 0.0012809943873435259)\n",
            "(10, 0.0013819598825648427)\n",
            "(20, 0.009818906895816326)\n",
            "(30, 0.006425065919756889)\n",
            "(40, 0.013593883253633976)\n",
            "(50, 0.014584388583898544)\n",
            "(60, 0.004612560383975506)\n",
            "(70, 0.0027476786635816097)\n",
            "(80, 0.01093275099992752)\n",
            "(90, 0.03510201349854469)\n",
            "(100, 0.005192613694816828)\n",
            "(110, 0.0025986861437559128)\n",
            "(120, 0.030379991978406906)\n",
            "(130, 0.009344330057501793)\n",
            "(140, 0.00483562471345067)\n",
            "(150, 0.006729984190315008)\n",
            "(160, 0.014167594723403454)\n",
            "(170, 0.0009488106006756425)\n",
            "(180, 0.013396206311881542)\n",
            "(190, 0.003638467751443386)\n",
            "(200, 0.0031965638045221567)\n",
            "(210, 0.01600329391658306)\n",
            "(220, 0.013014964759349823)\n",
            "(230, 0.005369262769818306)\n",
            "(240, 0.009002313949167728)\n",
            "(250, 0.03294357284903526)\n",
            "(260, 0.003018703544512391)\n",
            "(270, 0.0005557441618293524)\n",
            "(280, 0.008747119456529617)\n",
            "(290, 0.005076246336102486)\n",
            "(300, 0.0076385498978197575)\n",
            "Done Training\n",
            "('Epoch: ', 4, 'Train Loss: ', 0.009522800757640122, 'Test Loss: ', 0.05541938042885007, 'Accuracy: ', 98.28926905132192)\n",
            "(0, 0.055294159799814224)\n",
            "(10, 0.021567802876234055)\n",
            "(20, 0.03129565343260765)\n",
            "(30, 0.0011146164033561945)\n",
            "(40, 0.008022203110158443)\n",
            "(50, 0.008509550243616104)\n",
            "(60, 0.0014037418877705932)\n",
            "(70, 0.0010199642274528742)\n",
            "(80, 0.03221186622977257)\n",
            "(90, 0.0017860508523881435)\n",
            "(100, 0.0027417372912168503)\n",
            "(110, 0.004139842931181192)\n",
            "(120, 0.0007880592602305114)\n",
            "(130, 0.008535528555512428)\n",
            "(140, 0.006465492304414511)\n",
            "(150, 0.003583459882065654)\n",
            "(160, 0.0035064697731286287)\n",
            "(170, 0.0004785728524439037)\n",
            "(180, 0.002632942283526063)\n",
            "(190, 0.009297704324126244)\n",
            "(200, 0.005246066953986883)\n",
            "(210, 0.003480443963780999)\n",
            "(220, 0.001047220197506249)\n",
            "(230, 0.001106958370655775)\n",
            "(240, 0.0018240261124446988)\n",
            "(250, 0.010658702813088894)\n",
            "(260, 0.001382694230414927)\n",
            "(270, 0.015141916461288929)\n",
            "(280, 0.014790878631174564)\n",
            "(290, 0.005341425072401762)\n",
            "(300, 0.0031828880310058594)\n",
            "Done Training\n",
            "('Epoch: ', 5, 'Train Loss: ', 0.006599642534067396, 'Test Loss: ', 0.05481702738438503, 'Accuracy: ', 98.34110938310005)\n",
            "('Saved model with accuracy: ', 98.34110938310005)\n",
            "(0, 0.0021450710482895374)\n",
            "(10, 0.003605098696425557)\n",
            "(20, 0.0030683516524732113)\n",
            "(30, 0.0014133835211396217)\n",
            "(40, 0.036224059760570526)\n",
            "(50, 0.0070868683978915215)\n",
            "(60, 0.005504484288394451)\n",
            "(70, 0.001583366421982646)\n",
            "(80, 0.01318857166916132)\n",
            "(90, 0.0024242878425866365)\n",
            "(100, 0.003569202497601509)\n",
            "(110, 0.0016513728769496083)\n",
            "(120, 0.004453468136489391)\n",
            "(130, 0.001366148004308343)\n",
            "(140, 0.002799415495246649)\n",
            "(150, 0.0006271743914112449)\n",
            "(160, 0.0009127044468186796)\n",
            "(170, 0.003318080911412835)\n",
            "(180, 0.0034412003587931395)\n",
            "(190, 0.0011720084585249424)\n",
            "(200, 0.0013734054518863559)\n",
            "(210, 0.0024458980187773705)\n",
            "(220, 0.003258180571720004)\n",
            "(230, 0.0006702422979287803)\n",
            "(240, 0.0020530796609818935)\n",
            "(250, 0.013132624328136444)\n",
            "(260, 0.004315071273595095)\n",
            "(270, 0.001270837732590735)\n",
            "(280, 0.004001026041805744)\n",
            "(290, 0.0018714332254603505)\n",
            "(300, 0.002061119070276618)\n",
            "Done Training\n",
            "('Epoch: ', 6, 'Train Loss: ', 0.006232536600094174, 'Test Loss: ', 0.05574549371059137, 'Accuracy: ', 98.08190772420943)\n",
            "(0, 0.0038608266040682793)\n",
            "(10, 0.004747867584228516)\n",
            "(20, 0.0006363678257912397)\n",
            "(30, 0.0082226088270545)\n",
            "(40, 0.00192315096501261)\n",
            "(50, 0.013520059175789356)\n",
            "(60, 0.002694463822990656)\n",
            "(70, 0.005560245364904404)\n",
            "(80, 0.10544958710670471)\n",
            "(90, 0.002095842268317938)\n",
            "(100, 0.0037838935386389494)\n",
            "(110, 0.005283451173454523)\n",
            "(120, 0.0012571238912642002)\n",
            "(130, 0.0038917541969567537)\n",
            "(140, 0.0009113979176618159)\n",
            "(150, 0.0007988643483258784)\n",
            "(160, 0.027586154639720917)\n",
            "(170, 0.0016546535771340132)\n",
            "(180, 0.001692123361863196)\n",
            "(190, 0.002133855829015374)\n",
            "(200, 0.010266399011015892)\n",
            "(210, 0.002436084672808647)\n",
            "(220, 0.010978231206536293)\n",
            "(230, 0.002533397637307644)\n",
            "(240, 0.0017270755488425493)\n",
            "(250, 0.006275024265050888)\n",
            "(260, 0.019169902428984642)\n",
            "(270, 0.001031198538839817)\n",
            "(280, 0.0012668800773099065)\n",
            "(290, 0.0017966270679607987)\n",
            "(300, 0.0007122039678506553)\n",
            "Done Training\n",
            "('Epoch: ', 7, 'Train Loss: ', 0.005987660104049442, 'Test Loss: ', 0.0535522083420754, 'Accuracy: ', 98.13374805598755)\n",
            "(0, 0.009553899988532066)\n",
            "(10, 0.0010339546715840697)\n",
            "(20, 0.004302797373384237)\n",
            "(30, 0.011363220401108265)\n",
            "(40, 0.003696231869980693)\n",
            "(50, 0.0034355639945715666)\n",
            "(60, 0.006714048329740763)\n",
            "(70, 0.002376022282987833)\n",
            "(80, 0.0008773994632065296)\n",
            "(90, 0.004141616635024548)\n",
            "(100, 0.000498332956340164)\n",
            "(110, 0.0008501053089275956)\n",
            "(120, 0.001277599367313087)\n",
            "(130, 0.0018464660970494151)\n",
            "(140, 0.030379829928278923)\n",
            "(150, 0.002808208577334881)\n",
            "(160, 0.015840472653508186)\n",
            "(170, 0.002990016946569085)\n",
            "(180, 0.009277243167161942)\n",
            "(190, 0.0011827659327536821)\n",
            "(200, 0.001382961287163198)\n",
            "(210, 0.002225723350420594)\n",
            "(220, 0.004122581332921982)\n",
            "(230, 0.002434043912217021)\n",
            "(240, 0.0021724796388298273)\n",
            "(250, 0.0036381911486387253)\n",
            "(260, 0.002086954191327095)\n",
            "(270, 0.0018928813515231013)\n",
            "(280, 0.0020347596146166325)\n",
            "(290, 0.0006380462436936796)\n",
            "(300, 0.0067647360265254974)\n",
            "Done Training\n",
            "('Epoch: ', 8, 'Train Loss: ', 0.004149054393359132, 'Test Loss: ', 0.05386036847772488, 'Accuracy: ', 98.28926905132192)\n",
            "(0, 0.00511277187615633)\n",
            "(10, 0.0010353183606639504)\n",
            "(20, 0.0020298766903579235)\n",
            "(30, 0.015621013939380646)\n",
            "(40, 0.003239326411858201)\n",
            "(50, 0.0006784916040487587)\n",
            "(60, 0.001345834694802761)\n",
            "(70, 0.0003610420098993927)\n",
            "(80, 0.006826315075159073)\n",
            "(90, 0.0011616325937211514)\n",
            "(100, 0.0004207229649182409)\n",
            "(110, 0.004396209493279457)\n",
            "(120, 0.006710300222039223)\n",
            "(130, 0.001137695275247097)\n",
            "(140, 0.011646385304629803)\n",
            "(150, 0.010640859603881836)\n",
            "(160, 0.0003165244997944683)\n",
            "(170, 0.0022654342465102673)\n",
            "(180, 0.0014720344915986061)\n",
            "(190, 0.01642882265150547)\n",
            "(200, 0.005705986171960831)\n",
            "(210, 0.014154195785522461)\n",
            "(220, 0.0011483669513836503)\n",
            "(230, 0.0005386352422647178)\n",
            "(240, 0.003566865809261799)\n",
            "(250, 0.001284418161958456)\n",
            "(260, 0.0016990185249596834)\n",
            "(270, 0.010138311423361301)\n",
            "(280, 0.010788220912218094)\n",
            "(290, 0.0050666905008256435)\n",
            "(300, 0.005390367470681667)\n",
            "Done Training\n",
            "('Epoch: ', 9, 'Train Loss: ', 0.004117508538475736, 'Test Loss: ', 0.05626762856339262, 'Accuracy: ', 98.26334888543286)\n"
          ],
          "name": "stdout"
        }
      ]
    },
    {
      "metadata": {
        "id": "8su8aJguwS9q",
        "colab_type": "code",
        "outputId": "51574990-ee71-4967-8075-21157c907d03",
        "colab": {
          "base_uri": "https://localhost:8080/",
          "height": 229
        }
      },
      "cell_type": "code",
      "source": [
        "list_epochs = [i+1 for i in range(10)]\n",
        "\n",
        "plt.plot(list_epochs,accuracy)\n",
        "plt.xlabel('Epochs')\n",
        "plt.ylabel('Accuracy')\n",
        "plt.title('Resnet-18 Accuracy vs. Accuracy')\n",
        "plt.show()\n",
        "plt.plot(list_epochs,train_loss,label='Train Loss')\n",
        "plt.plot(list_epochs,test_loss,label='Test Loss')\n",
        "plt.xlabel('Epochs')\n",
        "plt.ylabel('Loss')\n",
        "plt.title('Train and Test Loss')\n",
        "plt.legend()\n",
        "plt.show()"
      ],
      "execution_count": 0,
      "outputs": [
        {
          "output_type": "error",
          "ename": "NameError",
          "evalue": "ignored",
          "traceback": [
            "\u001b[0;31m\u001b[0m",
            "\u001b[0;31mNameError\u001b[0mTraceback (most recent call last)",
            "\u001b[0;32m<ipython-input-1-2dced55dcabb>\u001b[0m in \u001b[0;36m<module>\u001b[0;34m()\u001b[0m\n\u001b[1;32m      1\u001b[0m \u001b[0mlist_epochs\u001b[0m \u001b[0;34m=\u001b[0m \u001b[0;34m[\u001b[0m\u001b[0mi\u001b[0m\u001b[0;34m+\u001b[0m\u001b[0;36m1\u001b[0m \u001b[0;32mfor\u001b[0m \u001b[0mi\u001b[0m \u001b[0;32min\u001b[0m \u001b[0mrange\u001b[0m\u001b[0;34m(\u001b[0m\u001b[0;36m10\u001b[0m\u001b[0;34m)\u001b[0m\u001b[0;34m]\u001b[0m\u001b[0;34m\u001b[0m\u001b[0m\n\u001b[1;32m      2\u001b[0m \u001b[0;34m\u001b[0m\u001b[0m\n\u001b[0;32m----> 3\u001b[0;31m \u001b[0mplt\u001b[0m\u001b[0;34m.\u001b[0m\u001b[0mplot\u001b[0m\u001b[0;34m(\u001b[0m\u001b[0mlist_epochs\u001b[0m\u001b[0;34m,\u001b[0m\u001b[0maccuracy\u001b[0m\u001b[0;34m)\u001b[0m\u001b[0;34m\u001b[0m\u001b[0m\n\u001b[0m\u001b[1;32m      4\u001b[0m \u001b[0mplt\u001b[0m\u001b[0;34m.\u001b[0m\u001b[0mxlabel\u001b[0m\u001b[0;34m(\u001b[0m\u001b[0;34m'Epochs'\u001b[0m\u001b[0;34m)\u001b[0m\u001b[0;34m\u001b[0m\u001b[0m\n\u001b[1;32m      5\u001b[0m \u001b[0mplt\u001b[0m\u001b[0;34m.\u001b[0m\u001b[0mylabel\u001b[0m\u001b[0;34m(\u001b[0m\u001b[0;34m'Accuracy'\u001b[0m\u001b[0;34m)\u001b[0m\u001b[0;34m\u001b[0m\u001b[0m\n",
            "\u001b[0;31mNameError\u001b[0m: name 'plt' is not defined"
          ]
        }
      ]
    },
    {
      "metadata": {
        "id": "Hh8Jb9m1Ms9k",
        "colab_type": "code",
        "colab": {}
      },
      "cell_type": "code",
      "source": [
        ""
      ],
      "execution_count": 0,
      "outputs": []
    }
  ]
}